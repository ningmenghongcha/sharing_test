{
 "cells": [
  {
   "cell_type": "code",
   "execution_count": 1,
   "id": "e54c6777-e2d3-42eb-844e-0fc47da849c4",
   "metadata": {},
   "outputs": [],
   "source": [
    "from scapy.all import *"
   ]
  },
  {
   "cell_type": "code",
   "execution_count": 5,
   "id": "4dfa2a07-70d3-407a-9a92-acd69a36ed54",
   "metadata": {},
   "outputs": [
    {
     "data": {
      "text/plain": [
       "<IP  |>"
      ]
     },
     "execution_count": 5,
     "metadata": {},
     "output_type": "execute_result"
    }
   ],
   "source": [
    "ip = IP()\n",
    "ip"
   ]
  },
  {
   "cell_type": "code",
   "execution_count": 6,
   "id": "1ecdf6c1-fc3f-43f7-9a9c-24d0d634b141",
   "metadata": {},
   "outputs": [
    {
     "data": {
      "text/plain": [
       "<IP  dst=192.168.150.134 |>"
      ]
     },
     "execution_count": 6,
     "metadata": {},
     "output_type": "execute_result"
    }
   ],
   "source": [
    "ip = IP(dst=\"192.168.150.134\")\n",
    "ip"
   ]
  },
  {
   "cell_type": "code",
   "execution_count": 7,
   "id": "16106119-10ee-486e-bc54-f5ab627990e0",
   "metadata": {},
   "outputs": [
    {
     "name": "stdout",
     "output_type": "stream",
     "text": [
      "version    : BitField (4 bits)                   = 4               (4)\n",
      "ihl        : BitField (4 bits)                   = None            (None)\n",
      "tos        : XByteField                          = 0               (0)\n",
      "len        : ShortField                          = None            (None)\n",
      "id         : ShortField                          = 1               (1)\n",
      "flags      : FlagsField (3 bits)                 = <Flag 0 ()>     (<Flag 0 ()>)\n",
      "frag       : BitField (13 bits)                  = 0               (0)\n",
      "ttl        : ByteField                           = 64              (64)\n",
      "proto      : ByteEnumField                       = 0               (0)\n",
      "chksum     : XShortField                         = None            (None)\n",
      "src        : SourceIPField                       = '192.168.2.147' (None)\n",
      "dst        : DestIPField                         = '127.0.0.1'     (None)\n",
      "options    : PacketListField                     = []              ([])\n"
     ]
    }
   ],
   "source": [
    "ls(IP())"
   ]
  },
  {
   "cell_type": "code",
   "execution_count": 8,
   "id": "b476e757-ef22-474c-a880-c0225b622b8b",
   "metadata": {},
   "outputs": [
    {
     "name": "stdout",
     "output_type": "stream",
     "text": [
      "\n",
      "Sent 1 packets.\n"
     ]
    }
   ],
   "source": [
    "send(IP(dst='192.168.150.135')/ICMP())"
   ]
  },
  {
   "cell_type": "code",
   "execution_count": 9,
   "id": "45e530ee-cc16-4357-b0cc-25c72a14bd2a",
   "metadata": {},
   "outputs": [
    {
     "name": "stdout",
     "output_type": "stream",
     "text": [
      "Begin emission:\n",
      "Finished sending 1 packets.\n",
      "\n",
      "Received 985 packets, got 0 answers, remaining 1 packets\n"
     ]
    },
    {
     "data": {
      "text/plain": [
       "(<Results: TCP:0 UDP:0 ICMP:0 Other:0>,\n",
       " <Unanswered: TCP:0 UDP:0 ICMP:1 Other:0>)"
      ]
     },
     "execution_count": 9,
     "metadata": {},
     "output_type": "execute_result"
    }
   ],
   "source": [
    "sr(IP(dst='192.168.150.135')/ICMP())"
   ]
  },
  {
   "cell_type": "code",
   "execution_count": 16,
   "id": "3e4b3bcc-d444-421e-bffd-c1b4af3f707c",
   "metadata": {},
   "outputs": [
    {
     "name": "stdout",
     "output_type": "stream",
     "text": [
      "Begin emission:\n",
      "Finished sending 1 packets.\n",
      "\n",
      "Received 57 packets, got 0 answers, remaining 1 packets\n"
     ]
    }
   ],
   "source": [
    "ans,uans = sr(IP(dst='192.168.150.135')/ICMP())"
   ]
  },
  {
   "cell_type": "code",
   "execution_count": 17,
   "id": "6712611b-f30d-4dbf-9895-2b55a629679f",
   "metadata": {},
   "outputs": [],
   "source": [
    "ans.summary()"
   ]
  },
  {
   "cell_type": "code",
   "execution_count": 18,
   "id": "1d3bb26f-580a-4ad2-a29a-bbdade87316f",
   "metadata": {},
   "outputs": [
    {
     "name": "stdout",
     "output_type": "stream",
     "text": [
      "IP / ICMP 192.168.2.147 > 192.168.150.135 echo-request 0\n"
     ]
    }
   ],
   "source": [
    "uans.summary()"
   ]
  },
  {
   "cell_type": "code",
   "execution_count": 22,
   "id": "ec935aee-ca71-4ae8-ac7b-014539a4a8c0",
   "metadata": {},
   "outputs": [
    {
     "name": "stdout",
     "output_type": "stream",
     "text": [
      "Begin emission:\n",
      "Finished sending 1 packets.\n",
      "\n",
      "Received 12 packets, got 1 answers, remaining 0 packets\n"
     ]
    }
   ],
   "source": [
    "p = sr(IP(dst='192.168.2.1')/TCP(dport=22,flags='S'))"
   ]
  },
  {
   "cell_type": "code",
   "execution_count": 28,
   "id": "fa2b4593-fc30-4edc-a3ed-134f05ba6036",
   "metadata": {},
   "outputs": [
    {
     "data": {
      "text/plain": [
       "(<Results: TCP:1 UDP:0 ICMP:0 Other:0>,\n",
       " <Unanswered: TCP:0 UDP:0 ICMP:0 Other:0>)"
      ]
     },
     "execution_count": 28,
     "metadata": {},
     "output_type": "execute_result"
    }
   ],
   "source": [
    "p"
   ]
  },
  {
   "cell_type": "code",
   "execution_count": 29,
   "id": "54c1a9c4-ce1d-4e5e-bc94-af5882d95094",
   "metadata": {},
   "outputs": [
    {
     "name": "stdout",
     "output_type": "stream",
     "text": [
      "Begin emission:\n",
      "Finished sending 1 packets.\n",
      "\n",
      "Received 4 packets, got 1 answers, remaining 0 packets\n"
     ]
    }
   ],
   "source": [
    "p = sr(IP(dst='192.168.2.1')/TCP(dport=1234,flags='S'))"
   ]
  },
  {
   "cell_type": "code",
   "execution_count": 30,
   "id": "36716651-00e4-49ce-b640-3842bc4ba225",
   "metadata": {},
   "outputs": [
    {
     "data": {
      "text/plain": [
       "(<Results: TCP:1 UDP:0 ICMP:0 Other:0>,\n",
       " <Unanswered: TCP:0 UDP:0 ICMP:0 Other:0>)"
      ]
     },
     "execution_count": 30,
     "metadata": {},
     "output_type": "execute_result"
    }
   ],
   "source": [
    "p"
   ]
  },
  {
   "cell_type": "code",
   "execution_count": 50,
   "id": "23ed5427-6244-419f-b9a6-d0a2352a9b37",
   "metadata": {},
   "outputs": [
    {
     "data": {
      "text/plain": [
       "<Sniffed: TCP:0 UDP:0 ICMP:3 Other:0>"
      ]
     },
     "execution_count": 50,
     "metadata": {},
     "output_type": "execute_result"
    }
   ],
   "source": [
    "sniff(filter='icmp and host 192.168.2.1',count=3)"
   ]
  },
  {
   "cell_type": "code",
   "execution_count": 51,
   "id": "89c8af93-736e-4584-b518-051602db4d1e",
   "metadata": {},
   "outputs": [
    {
     "name": "stdout",
     "output_type": "stream",
     "text": [
      "0000 Ether / IP / ICMP 192.168.2.147 > 192.168.2.1 echo-request 0 / Raw\n",
      "0001 Ether / IP / ICMP 192.168.2.1 > 192.168.2.147 echo-reply 0 / Raw\n",
      "0002 Ether / IP / ICMP 192.168.2.147 > 192.168.2.1 echo-request 0 / Raw\n"
     ]
    }
   ],
   "source": [
    "a = _\n",
    "a.nsummary()"
   ]
  },
  {
   "cell_type": "code",
   "execution_count": 52,
   "id": "675886d6-2221-43a9-a9aa-40c4f2f62ef5",
   "metadata": {},
   "outputs": [],
   "source": [
    "from scapy.all import fuzz,TCP,IP,sr"
   ]
  },
  {
   "cell_type": "code",
   "execution_count": 53,
   "id": "79de3ae8-c784-433d-8683-472506a09a00",
   "metadata": {},
   "outputs": [
    {
     "name": "stdout",
     "output_type": "stream",
     "text": [
      "Begin emission:\n",
      "Finished sending 1 packets.\n",
      "\n",
      "Received 2 packets, got 1 answers, remaining 0 packets\n"
     ]
    }
   ],
   "source": [
    "ans, unans = sr(IP(dst=\"192.168.2.1\")/fuzz(TCP(dport=80,flags=\"S\")))"
   ]
  },
  {
   "cell_type": "code",
   "execution_count": 66,
   "id": "94192a50-1815-4756-ad06-73a579888ac6",
   "metadata": {},
   "outputs": [
    {
     "data": {
      "text/plain": [
       "[(<IP  frag=0 proto=tcp dst=192.168.2.1 |<TCP  sport=52969 dport=http seq=2150467643 ack=1925826147 reserved=5 flags=S window=54063 urgptr=64171 options=[('AltChkSum', (194, 13382)), ('Mood', (b'\\x04',)), ('AltChkSumOpt', b''), ('SAckOK', b''), ('UTO', (50622,))] |>>,\n",
       "  <IP  version=4 ihl=5 tos=0x0 len=48 id=30581 flags= frag=0 ttl=128 proto=tcp chksum=0x3d6e src=192.168.2.1 dst=192.168.2.147 |<TCP  sport=http dport=52969 seq=656912455 ack=2150467644 dataofs=7 reserved=0 flags=SA window=14600 chksum=0x1510 urgptr=0 options=[('MSS', 1460), ('NOP', None), ('NOP', None), ('SAckOK', b'')] |>>)]"
      ]
     },
     "execution_count": 66,
     "metadata": {},
     "output_type": "execute_result"
    }
   ],
   "source": [
    "ans[TCP].res"
   ]
  },
  {
   "cell_type": "code",
   "execution_count": 56,
   "id": "010e9525-c0b4-49b6-aaa8-aed65ee7fea6",
   "metadata": {},
   "outputs": [
    {
     "name": "stdout",
     "output_type": "stream",
     "text": [
      "This port is open\n"
     ]
    }
   ],
   "source": [
    "for s,r in ans: # s is send, r is reply\n",
    "\n",
    "    if r[TCP].flags == 18:\n",
    "\n",
    "        print(\"This port is open\")\n",
    "\n",
    "    if r[TCP].flags == 20:\n",
    "\n",
    "        print (\"This port is closed\")"
   ]
  },
  {
   "cell_type": "code",
   "execution_count": 3,
   "id": "371972dc-0ce0-4c55-a8f2-b86c9d8cb2c1",
   "metadata": {},
   "outputs": [],
   "source": [
    "dpkt = sniff(filter='udp and host 192.168.1.100',count=3)"
   ]
  },
  {
   "cell_type": "code",
   "execution_count": 4,
   "id": "b95dc664-ae1a-4902-a8f3-8901a2252d31",
   "metadata": {},
   "outputs": [
    {
     "data": {
      "text/plain": [
       "<Ether  dst=00:23:cd:76:63:1a src=00:21:85:c5:2b:8f type=IPv4 |<IP  version=4 ihl=5 tos=0x0 len=48 id=8627 flags= frag=0 ttl=64 proto=udp chksum=0x9d6f src=192.168.1.100 dst=222.73.27.69 |<UDP  sport=1313 dport=10005 len=28 chksum=0x128b |<Raw  load='\\xef\\xec=\\xd6\\xc56Dg9!\\xbcdm\\xb3\\x97\\xc8\\x82\\xb5PA' |>>>>"
      ]
     },
     "execution_count": 4,
     "metadata": {},
     "output_type": "execute_result"
    }
   ],
   "source": [
    "dpkt[0]"
   ]
  },
  {
   "cell_type": "code",
   "execution_count": 5,
   "id": "3920ea33-3440-425f-a72f-1e1e9adea3ac",
   "metadata": {},
   "outputs": [
    {
     "data": {
      "text/plain": [
       "[<Ether  dst=00:23:cd:76:63:1a src=00:21:85:c5:2b:8f type=IPv4 |<IP  version=4 ihl=5 tos=0x0 len=48 id=8627 flags= frag=0 ttl=64 proto=udp chksum=0x9d6f src=192.168.1.100 dst=222.73.27.69 |<UDP  sport=1313 dport=10005 len=28 chksum=0x128b |<Raw  load='\\xef\\xec=\\xd6\\xc56Dg9!\\xbcdm\\xb3\\x97\\xc8\\x82\\xb5PA' |>>>>,\n",
       " <Ether  dst=00:23:cd:76:63:1a src=00:21:85:c5:2b:8f type=IPv4 |<IP  version=4 ihl=5 tos=0x0 len=48 id=8627 flags= frag=0 ttl=64 proto=udp chksum=0x9d6f src=192.168.1.100 dst=222.73.27.69 |<UDP  sport=1313 dport=10005 len=28 chksum=0x128b |<Raw  load='\\xef\\xec=\\xd6\\xc56Dg9!\\xbcdm\\xb3\\x97\\xc8\\x82\\xb5PA' |>>>>,\n",
       " <Ether  dst=00:23:cd:76:63:1a src=00:21:85:c5:2b:8f type=IPv4 |<IP  version=4 ihl=5 tos=0x0 len=48 id=8627 flags= frag=0 ttl=64 proto=udp chksum=0x9d6f src=192.168.1.100 dst=222.73.27.69 |<UDP  sport=1313 dport=10005 len=28 chksum=0x128b |<Raw  load='\\xef\\xec=\\xd6\\xc56Dg9!\\xbcdm\\xb3\\x97\\xc8\\x82\\xb5PA' |>>>>]"
      ]
     },
     "execution_count": 5,
     "metadata": {},
     "output_type": "execute_result"
    }
   ],
   "source": [
    "dpkt[UDP].res"
   ]
  },
  {
   "cell_type": "code",
   "execution_count": 6,
   "id": "91abc572-6ffa-49ec-8a52-821b5063df83",
   "metadata": {},
   "outputs": [
    {
     "data": {
      "text/plain": [
       "'00:21:85:c5:2b:8f'"
      ]
     },
     "execution_count": 6,
     "metadata": {},
     "output_type": "execute_result"
    }
   ],
   "source": [
    "dpkt[0][Ether].src"
   ]
  },
  {
   "cell_type": "code",
   "execution_count": 7,
   "id": "e33a6a61-a20a-4c86-8a64-67be19b50745",
   "metadata": {},
   "outputs": [
    {
     "data": {
      "text/plain": [
       "'00:23:cd:76:63:1a'"
      ]
     },
     "execution_count": 7,
     "metadata": {},
     "output_type": "execute_result"
    }
   ],
   "source": [
    "dpkt[0][Ether].dst"
   ]
  },
  {
   "cell_type": "code",
   "execution_count": 8,
   "id": "ff6b7ad4-4303-47d1-8cce-182e380f022b",
   "metadata": {},
   "outputs": [
    {
     "data": {
      "text/plain": [
       "2048"
      ]
     },
     "execution_count": 8,
     "metadata": {},
     "output_type": "execute_result"
    }
   ],
   "source": [
    "dpkt[0][Ether].type"
   ]
  },
  {
   "cell_type": "code",
   "execution_count": 12,
   "id": "3207e22c-2c08-47e9-97d6-8ba3e8eaa0ca",
   "metadata": {},
   "outputs": [
    {
     "data": {
      "text/plain": [
       "b'\\xef\\xec=\\xd6\\xc56Dg9!\\xbcdm\\xb3\\x97\\xc8\\x82\\xb5PA'"
      ]
     },
     "execution_count": 12,
     "metadata": {},
     "output_type": "execute_result"
    }
   ],
   "source": [
    "dpkt[0][Ether].load"
   ]
  },
  {
   "cell_type": "code",
   "execution_count": 10,
   "id": "1faa7a25-8208-408b-9a86-dd6e810e0771",
   "metadata": {},
   "outputs": [
    {
     "data": {
      "text/plain": [
       "'b\"\\\\x00#\\\\xcdvc\\\\x1a\\\\x00!\\\\x85\\\\xc5+\\\\x8f\\\\x08\\\\x00E\\\\x00\\\\x000!\\\\xb3\\\\x00\\\\x00@\\\\x11\\\\x9do\\\\xc0\\\\xa8\\\\x01d\\\\xdeI\\\\x1bE\\\\x05!\\'\\\\x15\\\\x00\\\\x1c\\\\x12\\\\x8b\\\\xef\\\\xec=\\\\xd6\\\\xc56Dg9!\\\\xbcdm\\\\xb3\\\\x97\\\\xc8\\\\x82\\\\xb5PA\"'"
      ]
     },
     "execution_count": 10,
     "metadata": {},
     "output_type": "execute_result"
    }
   ],
   "source": [
    "str(dpkt[0])"
   ]
  }
 ],
 "metadata": {
  "kernelspec": {
   "display_name": "Python 3",
   "language": "python",
   "name": "python3"
  },
  "language_info": {
   "codemirror_mode": {
    "name": "ipython",
    "version": 3
   },
   "file_extension": ".py",
   "mimetype": "text/x-python",
   "name": "python",
   "nbconvert_exporter": "python",
   "pygments_lexer": "ipython3",
   "version": "3.8.8"
  },
  "toc-autonumbering": false,
  "toc-showcode": false,
  "toc-showmarkdowntxt": false
 },
 "nbformat": 4,
 "nbformat_minor": 5
}
